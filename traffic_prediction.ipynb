{
  "cells": [
    {
      "cell_type": "markdown",
      "metadata": {
        "id": "view-in-github",
        "colab_type": "text"
      },
      "source": [
        "<a href=\"https://colab.research.google.com/github/refercon/ipynb/blob/main/traffic_prediction.ipynb\" target=\"_parent\"><img src=\"https://colab.research.google.com/assets/colab-badge.svg\" alt=\"Open In Colab\"/></a>"
      ]
    },
    {
      "cell_type": "code",
      "execution_count": null,
      "metadata": {
        "colab": {
          "base_uri": "https://localhost:8080/"
        },
        "id": "Yl28Zt3KegCr",
        "outputId": "19359495-00f9-4410-b100-fc08def9c8b0"
      },
      "outputs": [
        {
          "output_type": "stream",
          "name": "stdout",
          "text": [
            "Looking in indexes: https://pypi.tuna.tsinghua.edu.cn/simple\n",
            "Collecting torch-geometric-temporal\n",
            "  Using cached torch_geometric_temporal-0.54.0-py3-none-any.whl\n",
            "Collecting decorator==4.4.2 (from torch-geometric-temporal)\n",
            "  Using cached https://pypi.tuna.tsinghua.edu.cn/packages/ed/1b/72a1821152d07cf1d8b6fce298aeb06a7eb90f4d6d41acec9861e7cc6df0/decorator-4.4.2-py2.py3-none-any.whl (9.2 kB)\n",
            "Requirement already satisfied: torch in d:\\anaconda3\\lib\\site-packages (from torch-geometric-temporal) (1.11.0+cu115)\n",
            "Requirement already satisfied: cython in d:\\anaconda3\\lib\\site-packages (from torch-geometric-temporal) (0.29.23)\n",
            "Requirement already satisfied: pandas<=1.3.5 in d:\\anaconda3\\lib\\site-packages (from torch-geometric-temporal) (1.2.4)\n",
            "Requirement already satisfied: torch-sparse in d:\\anaconda3\\lib\\site-packages (from torch-geometric-temporal) (0.6.14)\n",
            "Requirement already satisfied: torch-scatter in d:\\anaconda3\\lib\\site-packages (from torch-geometric-temporal) (2.0.9)\n",
            "Requirement already satisfied: torch-geometric in d:\\anaconda3\\lib\\site-packages (from torch-geometric-temporal) (2.5.0)\n",
            "Requirement already satisfied: numpy in d:\\anaconda3\\lib\\site-packages (from torch-geometric-temporal) (1.19.5)\n",
            "Requirement already satisfied: six in d:\\anaconda3\\lib\\site-packages (from torch-geometric-temporal) (1.16.0)\n",
            "Requirement already satisfied: networkx in d:\\anaconda3\\lib\\site-packages (from torch-geometric-temporal) (3.1)\n",
            "Requirement already satisfied: python-dateutil>=2.7.3 in d:\\anaconda3\\lib\\site-packages (from pandas<=1.3.5->torch-geometric-temporal) (2.8.2)\n",
            "Requirement already satisfied: pytz>=2017.3 in d:\\anaconda3\\lib\\site-packages (from pandas<=1.3.5->torch-geometric-temporal) (2023.3.post1)\n",
            "Requirement already satisfied: typing-extensions in d:\\anaconda3\\lib\\site-packages (from torch->torch-geometric-temporal) (4.9.0)\n",
            "Requirement already satisfied: tqdm in d:\\anaconda3\\lib\\site-packages (from torch-geometric->torch-geometric-temporal) (4.65.0)\n",
            "Requirement already satisfied: scipy in d:\\anaconda3\\lib\\site-packages (from torch-geometric->torch-geometric-temporal) (1.6.2)\n",
            "Requirement already satisfied: fsspec in d:\\anaconda3\\lib\\site-packages (from torch-geometric->torch-geometric-temporal) (2023.10.0)\n",
            "Requirement already satisfied: jinja2 in d:\\anaconda3\\lib\\site-packages (from torch-geometric->torch-geometric-temporal) (3.1.3)\n",
            "Requirement already satisfied: aiohttp in d:\\anaconda3\\lib\\site-packages (from torch-geometric->torch-geometric-temporal) (3.9.0)\n",
            "Requirement already satisfied: requests in d:\\anaconda3\\lib\\site-packages (from torch-geometric->torch-geometric-temporal) (2.31.0)\n",
            "Requirement already satisfied: pyparsing in d:\\anaconda3\\lib\\site-packages (from torch-geometric->torch-geometric-temporal) (3.0.9)\n",
            "Requirement already satisfied: scikit-learn in d:\\anaconda3\\lib\\site-packages (from torch-geometric->torch-geometric-temporal) (0.24.1)\n",
            "Requirement already satisfied: psutil>=5.8.0 in d:\\anaconda3\\lib\\site-packages (from torch-geometric->torch-geometric-temporal) (5.9.0)\n",
            "Requirement already satisfied: attrs>=17.3.0 in d:\\anaconda3\\lib\\site-packages (from aiohttp->torch-geometric->torch-geometric-temporal) (23.1.0)\n",
            "Requirement already satisfied: multidict<7.0,>=4.5 in d:\\anaconda3\\lib\\site-packages (from aiohttp->torch-geometric->torch-geometric-temporal) (6.0.4)\n",
            "Requirement already satisfied: yarl<2.0,>=1.0 in d:\\anaconda3\\lib\\site-packages (from aiohttp->torch-geometric->torch-geometric-temporal) (1.9.3)\n",
            "Requirement already satisfied: frozenlist>=1.1.1 in d:\\anaconda3\\lib\\site-packages (from aiohttp->torch-geometric->torch-geometric-temporal) (1.4.0)\n",
            "Requirement already satisfied: aiosignal>=1.1.2 in d:\\anaconda3\\lib\\site-packages (from aiohttp->torch-geometric->torch-geometric-temporal) (1.2.0)\n",
            "Requirement already satisfied: async-timeout<5.0,>=4.0 in d:\\anaconda3\\lib\\site-packages (from aiohttp->torch-geometric->torch-geometric-temporal) (4.0.3)\n",
            "Requirement already satisfied: MarkupSafe>=2.0 in d:\\anaconda3\\lib\\site-packages (from jinja2->torch-geometric->torch-geometric-temporal) (2.1.3)\n",
            "Requirement already satisfied: charset-normalizer<4,>=2 in d:\\anaconda3\\lib\\site-packages (from requests->torch-geometric->torch-geometric-temporal) (2.0.4)\n",
            "Requirement already satisfied: idna<4,>=2.5 in d:\\anaconda3\\lib\\site-packages (from requests->torch-geometric->torch-geometric-temporal) (3.4)\n",
            "Requirement already satisfied: urllib3<3,>=1.21.1 in d:\\anaconda3\\lib\\site-packages (from requests->torch-geometric->torch-geometric-temporal) (1.26.18)\n",
            "Requirement already satisfied: certifi>=2017.4.17 in d:\\anaconda3\\lib\\site-packages (from requests->torch-geometric->torch-geometric-temporal) (2023.11.17)\n",
            "Requirement already satisfied: joblib>=0.11 in d:\\anaconda3\\lib\\site-packages (from scikit-learn->torch-geometric->torch-geometric-temporal) (1.2.0)\n",
            "Requirement already satisfied: threadpoolctl>=2.0.0 in d:\\anaconda3\\lib\\site-packages (from scikit-learn->torch-geometric->torch-geometric-temporal) (2.2.0)\n",
            "Requirement already satisfied: colorama in d:\\anaconda3\\lib\\site-packages (from tqdm->torch-geometric->torch-geometric-temporal) (0.4.6)\n",
            "Installing collected packages: decorator, torch-geometric-temporal\n",
            "  Attempting uninstall: decorator\n",
            "    Found existing installation: decorator 5.1.1\n",
            "    Uninstalling decorator-5.1.1:\n",
            "      Successfully uninstalled decorator-5.1.1\n",
            "Successfully installed decorator-4.4.2 torch-geometric-temporal-0.54.0\n"
          ]
        },
        {
          "output_type": "stream",
          "name": "stderr",
          "text": [
            "WARNING: Ignoring invalid distribution -ip (d:\\anaconda3\\lib\\site-packages)\n",
            "WARNING: Ignoring invalid distribution -ip (d:\\anaconda3\\lib\\site-packages)\n"
          ]
        }
      ],
      "source": [
        "\n",
        "!pip install torch-geometric-temporal\n",
        "\n"
      ]
    },
    {
      "cell_type": "code",
      "source": [
        "import matplotlib.pyplot as plt\n",
        "import numpy as np\n",
        "\n",
        "# 创建一些示例数据\n",
        "x = np.linspace(0, 2 * np.pi, 400)\n",
        "y1 = np.sin(x)\n",
        "y2 = np.cos(x)\n",
        "\n",
        "fig, axs = plt.subplots(2)\n",
        "fig.suptitle('Vertically stacked subplots with one legend')\n",
        "\n",
        "# 绘制第一个子图\n",
        "axs[0].plot(x, y1, label='sin(x)')\n",
        "axs[0].set_title('sin(x)')\n",
        "\n",
        "# 绘制第二个子图\n",
        "axs[1].plot(x, y2, label='cos(x)', color='orange')\n",
        "axs[1].set_title('cos(x)')\n",
        "\n",
        "# 创建一个图例并放置在图形的外部\n",
        "fig.legend(loc='upper right', bbox_to_anchor=(1.1, 1))\n",
        "\n",
        "plt.show()\n"
      ],
      "metadata": {
        "colab": {
          "base_uri": "https://localhost:8080/",
          "height": 480
        },
        "id": "2VIf9cJ_IzOG",
        "outputId": "c954a43d-c001-4d9a-c8fc-485e02d1c123"
      },
      "execution_count": null,
      "outputs": [
        {
          "output_type": "display_data",
          "data": {
            "text/plain": [
              "<Figure size 640x480 with 2 Axes>"
            ],
            "image/png": "[encoded data removed]"
          },
          "metadata": {}
        }
      ]
    },
    {
      "cell_type": "markdown",
      "metadata": {
        "id": "OVp0qeJL_nSm"
      },
      "source": [
        "## 交通流量预测\n",
        "- 核心工具包：Pytorch Geometric Temporal\n"
      ]
    },
    {
      "cell_type": "markdown",
      "metadata": {
        "id": "HFi-pzRpc-kb"
      },
      "source": [
        "#### 需要额外安装的工具包-：\n",
        "- pip install torch-geometric-temporal"
      ]
    },
    {
      "cell_type": "markdown",
      "metadata": {
        "id": "rQRCDlbcc-kc"
      },
      "source": [
        "### 数据集：选自论文Diffusion Convolutional Recurrent Neural Network\n",
        "\n",
        "- 一共有207个传感器收集的数据(主要就是速度信息)\n",
        "- 这些传感器在洛杉矶每5分钟收集一次数据"
      ]
    },
    {
      "cell_type": "markdown",
      "metadata": {
        "id": "8MpaLCcgc-kd"
      },
      "source": [
        "### 时间序列两种常见预测方法："
      ]
    },
    {
      "cell_type": "markdown",
      "metadata": {
        "id": "YdGPzreXc-kd"
      },
      "source": [
        "![image.png](attachment:image.png)"
      ]
    },
    {
      "cell_type": "code",
      "execution_count": null,
      "metadata": {
        "colab": {
          "base_uri": "https://localhost:8080/"
        },
        "id": "iOc-jbFckFHn",
        "outputId": "9959fcc8-eff6-4af4-9aec-38f659d2f78e"
      },
      "outputs": [
        {
          "output_type": "stream",
          "name": "stderr",
          "text": [
            "d:\\Anaconda3\\lib\\site-packages\\scipy\\__init__.py:138: UserWarning: A NumPy version >=1.16.5 and <1.23.0 is required for this version of SciPy (detected version 1.24.3)\n",
            "  warnings.warn(f\"A NumPy version >={np_minversion} and <{np_maxversion} is required for this version of \"\n"
          ]
        },
        {
          "output_type": "stream",
          "name": "stdout",
          "text": [
            "Dataset type:   <torch_geometric_temporal.signal.static_graph_temporal_signal.StaticGraphTemporalSignal object at 0x000001FDD81285B0>\n",
            "Number of samples / sequences:  34249\n"
          ]
        }
      ],
      "source": [
        "import ssl\n",
        "import urllib.request\n",
        "\n",
        "# 禁用证书验证（全局设置）\n",
        "ssl._create_default_https_context = ssl._create_unverified_context\n",
        "from torch_geometric_temporal.dataset import METRLADatasetLoader\n",
        "\n",
        "loader = METRLADatasetLoader()\n",
        "dataset = loader.get_dataset(num_timesteps_in=12, num_timesteps_out=12)#输入12个样本点 预测未来12个点的值\n",
        "print(\"Dataset type:  \", dataset)\n",
        "# 初始化计数器\n",
        "num_samples = 0\n",
        "\n",
        "# 遍历数据集以计数\n",
        "for _ in dataset:\n",
        "    num_samples += 1\n",
        "\n",
        "print(\"Number of samples / sequences: \", num_samples)\n"
      ]
    },
    {
      "cell_type": "markdown",
      "metadata": {
        "id": "r2zO_CjYBQSt"
      },
      "source": [
        "#### Data Sample\n",
        "- 207 个传感器\n",
        "- 每个具有两个特征 (speed, time)\n",
        "- 输入是12个时间点 (12 x 5 min = 60 min)\n",
        "- 标签是未来12个点的速度值\n",
        "- Edge_attr is build based on the distances between sensors + threshold\n",
        "- 数据相关介绍: https://pytorch-geometric-temporal.readthedocs.io/en/latest/_modules/torch_geometric_temporal/dataset/metr_la.html#METRLADatasetLoader\n",
        "- 原始数据下载: https://graphmining.ai/temporal_datasets/METR-LA.zip"
      ]
    },
    {
      "cell_type": "code",
      "execution_count": null,
      "metadata": {
        "colab": {
          "base_uri": "https://localhost:8080/"
        },
        "id": "ClWnMrz0Anjr",
        "outputId": "33c368d3-30e5-408e-99c0-31c668d7b27e"
      },
      "outputs": [
        {
          "output_type": "execute_result",
          "data": {
            "text/plain": [
              "Data(x=[207, 2, 12], edge_index=[2, 1722], edge_attr=[1722], y=[207, 12])"
            ]
          },
          "metadata": {},
          "execution_count": 2
        }
      ],
      "source": [
        "# 数据样例\n",
        "next(iter(dataset))"
      ]
    },
    {
      "cell_type": "markdown",
      "metadata": {
        "id": "iQXr329mc-kg"
      },
      "source": [
        "要预测的数据啥样子"
      ]
    },
    {
      "cell_type": "code",
      "execution_count": null,
      "metadata": {
        "id": "EzrkqXPxFwIx"
      },
      "outputs": [],
      "source": [
        "import seaborn as sns\n",
        "import matplotlib.pyplot as plt\n",
        "# Visualize traffic over time\n",
        "sensor_number = 1\n",
        "hours = 24\n",
        "sensor_labels = [bucket.y[sensor_number][0].item() for bucket in list(dataset)[:hours]]\n",
        "sns.lineplot(data=sensor_labels)\n",
        "plt.show()"
      ]
    },
    {
      "cell_type": "markdown",
      "metadata": {
        "id": "8ZqDAqQdBS8Q"
      },
      "source": [
        "#### 数据集切分"
      ]
    },
    {
      "cell_type": "code",
      "execution_count": null,
      "metadata": {
        "id": "ZMn2LXERsyVK"
      },
      "outputs": [],
      "source": [
        "from torch_geometric_temporal.signal import temporal_signal_split\n",
        "train_dataset, test_dataset = temporal_signal_split(dataset, train_ratio=0.8)\n",
        "\n",
        "# print(\"Number of train buckets: \", len(set(train_dataset)))\n",
        "# print(\"Number of test buckets: \", len(set(test_dataset)))"
      ]
    },
    {
      "cell_type": "markdown",
      "metadata": {
        "id": "n1puzm8U_xpY"
      },
      "source": [
        "## 网络模型\n",
        "\n",
        "A3TGCN是TGCN的拓展，加入了注意力机制，用的比较多"
      ]
    },
    {
      "cell_type": "markdown",
      "metadata": {
        "id": "iK2G63aNc-kj"
      },
      "source": [
        "![image.png](attachment:image.png)"
      ]
    },
    {
      "cell_type": "code",
      "execution_count": null,
      "metadata": {
        "colab": {
          "base_uri": "https://localhost:8080/"
        },
        "id": "gQB8MPV0sU4K",
        "outputId": "ac287795-5368-43e6-adb0-1ad29d5bb491"
      },
      "outputs": [
        {
          "output_type": "execute_result",
          "data": {
            "text/plain": [
              "TemporalGNN(\n",
              "  (tgnn): A3TGCN(\n",
              "    (_base_tgcn): TGCN(\n",
              "      (conv_z): GCNConv(2, 32)\n",
              "      (linear_z): Linear(in_features=64, out_features=32, bias=True)\n",
              "      (conv_r): GCNConv(2, 32)\n",
              "      (linear_r): Linear(in_features=64, out_features=32, bias=True)\n",
              "      (conv_h): GCNConv(2, 32)\n",
              "      (linear_h): Linear(in_features=64, out_features=32, bias=True)\n",
              "    )\n",
              "  )\n",
              "  (linear): Linear(in_features=32, out_features=12, bias=True)\n",
              ")"
            ]
          },
          "metadata": {},
          "execution_count": 4
        }
      ],
      "source": [
        "import torch\n",
        "import torch.nn.functional as F\n",
        "from torch_geometric_temporal.nn.recurrent import A3TGCN\n",
        "\n",
        "class TemporalGNN(torch.nn.Module):\n",
        "    def __init__(self, node_features, periods):\n",
        "        super(TemporalGNN, self).__init__()\n",
        "        # Attention Temporal Graph Convolutional Cell\n",
        "        self.tgnn = A3TGCN(in_channels=node_features,\n",
        "                           out_channels=32,\n",
        "                           periods=periods)\n",
        "        # Equals single-shot prediction\n",
        "        self.linear = torch.nn.Linear(32, periods)#预测未来的12个值\n",
        "\n",
        "    def forward(self, x, edge_index):\n",
        "        \"\"\"\n",
        "        x = Node features for T time steps\n",
        "        edge_index = Graph edge indices\n",
        "        \"\"\"\n",
        "        h = self.tgnn(x, edge_index)\n",
        "        h = F.relu(h)\n",
        "        h = self.linear(h)\n",
        "        return h\n",
        "\n",
        "TemporalGNN(node_features=2, periods=12)"
      ]
    },
    {
      "cell_type": "markdown",
      "metadata": {
        "id": "RDbNmvO2_znb"
      },
      "source": [
        "### 训练与测试"
      ]
    },
    {
      "cell_type": "code",
      "execution_count": null,
      "metadata": {
        "colab": {
          "base_uri": "https://localhost:8080/",
          "height": 1000
        },
        "id": "7kOvaOrps2oe",
        "outputId": "a22ff174-cea0-4196-f107-df7757e607d2"
      },
      "outputs": [
        {
          "output_type": "stream",
          "name": "stdout",
          "text": [
            "Running training...\n"
          ]
        },
        {
          "output_type": "error",
          "ename": "RuntimeError",
          "evalue": "CUDA out of memory. Tried to allocate 2.00 MiB (GPU 0; 4.00 GiB total capacity; 10.16 GiB already allocated; 0 bytes free; 10.29 GiB reserved in total by PyTorch) If reserved memory is >> allocated memory try setting max_split_size_mb to avoid fragmentation.  See documentation for Memory Management and PYTORCH_CUDA_ALLOC_CONF",
          "traceback": [
            "\u001b[1;31m---------------------------------------------------------------------------\u001b[0m",
            "\u001b[1;31mRuntimeError\u001b[0m                              Traceback (most recent call last)",
            "Cell \u001b[1;32mIn[10], line 17\u001b[0m\n\u001b[0;32m     15\u001b[0m snapshot \u001b[38;5;241m=\u001b[39m snapshot\u001b[38;5;241m.\u001b[39mto(device)\n\u001b[0;32m     16\u001b[0m \u001b[38;5;66;03m# Get model predictions\u001b[39;00m\n\u001b[1;32m---> 17\u001b[0m y_hat \u001b[38;5;241m=\u001b[39m \u001b[43mmodel\u001b[49m\u001b[43m(\u001b[49m\u001b[43msnapshot\u001b[49m\u001b[38;5;241;43m.\u001b[39;49m\u001b[43mx\u001b[49m\u001b[43m,\u001b[49m\u001b[43m \u001b[49m\u001b[43msnapshot\u001b[49m\u001b[38;5;241;43m.\u001b[39;49m\u001b[43medge_index\u001b[49m\u001b[43m)\u001b[49m\n\u001b[0;32m     18\u001b[0m \u001b[38;5;66;03m# Mean squared error\u001b[39;00m\n\u001b[0;32m     19\u001b[0m loss \u001b[38;5;241m=\u001b[39m loss \u001b[38;5;241m+\u001b[39m torch\u001b[38;5;241m.\u001b[39mmean((y_hat\u001b[38;5;241m-\u001b[39msnapshot\u001b[38;5;241m.\u001b[39my)\u001b[38;5;241m*\u001b[39m\u001b[38;5;241m*\u001b[39m\u001b[38;5;241m2\u001b[39m)\n",
            "File \u001b[1;32md:\\Anaconda3\\lib\\site-packages\\torch\\nn\\modules\\module.py:1110\u001b[0m, in \u001b[0;36mModule._call_impl\u001b[1;34m(self, *input, **kwargs)\u001b[0m\n\u001b[0;32m   1106\u001b[0m \u001b[38;5;66;03m# If we don't have any hooks, we want to skip the rest of the logic in\u001b[39;00m\n\u001b[0;32m   1107\u001b[0m \u001b[38;5;66;03m# this function, and just call forward.\u001b[39;00m\n\u001b[0;32m   1108\u001b[0m \u001b[38;5;28;01mif\u001b[39;00m \u001b[38;5;129;01mnot\u001b[39;00m (\u001b[38;5;28mself\u001b[39m\u001b[38;5;241m.\u001b[39m_backward_hooks \u001b[38;5;129;01mor\u001b[39;00m \u001b[38;5;28mself\u001b[39m\u001b[38;5;241m.\u001b[39m_forward_hooks \u001b[38;5;129;01mor\u001b[39;00m \u001b[38;5;28mself\u001b[39m\u001b[38;5;241m.\u001b[39m_forward_pre_hooks \u001b[38;5;129;01mor\u001b[39;00m _global_backward_hooks\n\u001b[0;32m   1109\u001b[0m         \u001b[38;5;129;01mor\u001b[39;00m _global_forward_hooks \u001b[38;5;129;01mor\u001b[39;00m _global_forward_pre_hooks):\n\u001b[1;32m-> 1110\u001b[0m     \u001b[38;5;28;01mreturn\u001b[39;00m \u001b[43mforward_call\u001b[49m\u001b[43m(\u001b[49m\u001b[38;5;241;43m*\u001b[39;49m\u001b[38;5;28;43minput\u001b[39;49m\u001b[43m,\u001b[49m\u001b[43m \u001b[49m\u001b[38;5;241;43m*\u001b[39;49m\u001b[38;5;241;43m*\u001b[39;49m\u001b[43mkwargs\u001b[49m\u001b[43m)\u001b[49m\n\u001b[0;32m   1111\u001b[0m \u001b[38;5;66;03m# Do not call functions when jit is used\u001b[39;00m\n\u001b[0;32m   1112\u001b[0m full_backward_hooks, non_full_backward_hooks \u001b[38;5;241m=\u001b[39m [], []\n",
            "Cell \u001b[1;32mIn[4], line 20\u001b[0m, in \u001b[0;36mTemporalGNN.forward\u001b[1;34m(self, x, edge_index)\u001b[0m\n\u001b[0;32m     15\u001b[0m \u001b[38;5;28;01mdef\u001b[39;00m \u001b[38;5;21mforward\u001b[39m(\u001b[38;5;28mself\u001b[39m, x, edge_index):\n\u001b[0;32m     16\u001b[0m \u001b[38;5;250m    \u001b[39m\u001b[38;5;124;03m\"\"\"\u001b[39;00m\n\u001b[0;32m     17\u001b[0m \u001b[38;5;124;03m    x = Node features for T time steps\u001b[39;00m\n\u001b[0;32m     18\u001b[0m \u001b[38;5;124;03m    edge_index = Graph edge indices\u001b[39;00m\n\u001b[0;32m     19\u001b[0m \u001b[38;5;124;03m    \"\"\"\u001b[39;00m\n\u001b[1;32m---> 20\u001b[0m     h \u001b[38;5;241m=\u001b[39m \u001b[38;5;28;43mself\u001b[39;49m\u001b[38;5;241;43m.\u001b[39;49m\u001b[43mtgnn\u001b[49m\u001b[43m(\u001b[49m\u001b[43mx\u001b[49m\u001b[43m,\u001b[49m\u001b[43m \u001b[49m\u001b[43medge_index\u001b[49m\u001b[43m)\u001b[49m\n\u001b[0;32m     21\u001b[0m     h \u001b[38;5;241m=\u001b[39m F\u001b[38;5;241m.\u001b[39mrelu(h)\n\u001b[0;32m     22\u001b[0m     h \u001b[38;5;241m=\u001b[39m \u001b[38;5;28mself\u001b[39m\u001b[38;5;241m.\u001b[39mlinear(h)\n",
            "File \u001b[1;32md:\\Anaconda3\\lib\\site-packages\\torch\\nn\\modules\\module.py:1110\u001b[0m, in \u001b[0;36mModule._call_impl\u001b[1;34m(self, *input, **kwargs)\u001b[0m\n\u001b[0;32m   1106\u001b[0m \u001b[38;5;66;03m# If we don't have any hooks, we want to skip the rest of the logic in\u001b[39;00m\n\u001b[0;32m   1107\u001b[0m \u001b[38;5;66;03m# this function, and just call forward.\u001b[39;00m\n\u001b[0;32m   1108\u001b[0m \u001b[38;5;28;01mif\u001b[39;00m \u001b[38;5;129;01mnot\u001b[39;00m (\u001b[38;5;28mself\u001b[39m\u001b[38;5;241m.\u001b[39m_backward_hooks \u001b[38;5;129;01mor\u001b[39;00m \u001b[38;5;28mself\u001b[39m\u001b[38;5;241m.\u001b[39m_forward_hooks \u001b[38;5;129;01mor\u001b[39;00m \u001b[38;5;28mself\u001b[39m\u001b[38;5;241m.\u001b[39m_forward_pre_hooks \u001b[38;5;129;01mor\u001b[39;00m _global_backward_hooks\n\u001b[0;32m   1109\u001b[0m         \u001b[38;5;129;01mor\u001b[39;00m _global_forward_hooks \u001b[38;5;129;01mor\u001b[39;00m _global_forward_pre_hooks):\n\u001b[1;32m-> 1110\u001b[0m     \u001b[38;5;28;01mreturn\u001b[39;00m \u001b[43mforward_call\u001b[49m\u001b[43m(\u001b[49m\u001b[38;5;241;43m*\u001b[39;49m\u001b[38;5;28;43minput\u001b[39;49m\u001b[43m,\u001b[49m\u001b[43m \u001b[49m\u001b[38;5;241;43m*\u001b[39;49m\u001b[38;5;241;43m*\u001b[39;49m\u001b[43mkwargs\u001b[49m\u001b[43m)\u001b[49m\n\u001b[0;32m   1111\u001b[0m \u001b[38;5;66;03m# Do not call functions when jit is used\u001b[39;00m\n\u001b[0;32m   1112\u001b[0m full_backward_hooks, non_full_backward_hooks \u001b[38;5;241m=\u001b[39m [], []\n",
            "File \u001b[1;32md:\\Anaconda3\\lib\\site-packages\\torch_geometric_temporal\\nn\\recurrent\\attentiontemporalgcn.py:76\u001b[0m, in \u001b[0;36mA3TGCN.forward\u001b[1;34m(self, X, edge_index, edge_weight, H)\u001b[0m\n\u001b[0;32m     74\u001b[0m probs \u001b[38;5;241m=\u001b[39m torch\u001b[38;5;241m.\u001b[39mnn\u001b[38;5;241m.\u001b[39mfunctional\u001b[38;5;241m.\u001b[39msoftmax(\u001b[38;5;28mself\u001b[39m\u001b[38;5;241m.\u001b[39m_attention, dim\u001b[38;5;241m=\u001b[39m\u001b[38;5;241m0\u001b[39m)\n\u001b[0;32m     75\u001b[0m \u001b[38;5;28;01mfor\u001b[39;00m period \u001b[38;5;129;01min\u001b[39;00m \u001b[38;5;28mrange\u001b[39m(\u001b[38;5;28mself\u001b[39m\u001b[38;5;241m.\u001b[39mperiods):\n\u001b[1;32m---> 76\u001b[0m     H_accum \u001b[38;5;241m=\u001b[39m H_accum \u001b[38;5;241m+\u001b[39m probs[period] \u001b[38;5;241m*\u001b[39m \u001b[38;5;28;43mself\u001b[39;49m\u001b[38;5;241;43m.\u001b[39;49m\u001b[43m_base_tgcn\u001b[49m\u001b[43m(\u001b[49m\n\u001b[0;32m     77\u001b[0m \u001b[43m        \u001b[49m\u001b[43mX\u001b[49m\u001b[43m[\u001b[49m\u001b[43m:\u001b[49m\u001b[43m,\u001b[49m\u001b[43m \u001b[49m\u001b[43m:\u001b[49m\u001b[43m,\u001b[49m\u001b[43m \u001b[49m\u001b[43mperiod\u001b[49m\u001b[43m]\u001b[49m\u001b[43m,\u001b[49m\u001b[43m \u001b[49m\u001b[43medge_index\u001b[49m\u001b[43m,\u001b[49m\u001b[43m \u001b[49m\u001b[43medge_weight\u001b[49m\u001b[43m,\u001b[49m\u001b[43m \u001b[49m\u001b[43mH\u001b[49m\n\u001b[0;32m     78\u001b[0m \u001b[43m    \u001b[49m\u001b[43m)\u001b[49m\n\u001b[0;32m     79\u001b[0m \u001b[38;5;28;01mreturn\u001b[39;00m H_accum\n",
            "File \u001b[1;32md:\\Anaconda3\\lib\\site-packages\\torch\\nn\\modules\\module.py:1110\u001b[0m, in \u001b[0;36mModule._call_impl\u001b[1;34m(self, *input, **kwargs)\u001b[0m\n\u001b[0;32m   1106\u001b[0m \u001b[38;5;66;03m# If we don't have any hooks, we want to skip the rest of the logic in\u001b[39;00m\n\u001b[0;32m   1107\u001b[0m \u001b[38;5;66;03m# this function, and just call forward.\u001b[39;00m\n\u001b[0;32m   1108\u001b[0m \u001b[38;5;28;01mif\u001b[39;00m \u001b[38;5;129;01mnot\u001b[39;00m (\u001b[38;5;28mself\u001b[39m\u001b[38;5;241m.\u001b[39m_backward_hooks \u001b[38;5;129;01mor\u001b[39;00m \u001b[38;5;28mself\u001b[39m\u001b[38;5;241m.\u001b[39m_forward_hooks \u001b[38;5;129;01mor\u001b[39;00m \u001b[38;5;28mself\u001b[39m\u001b[38;5;241m.\u001b[39m_forward_pre_hooks \u001b[38;5;129;01mor\u001b[39;00m _global_backward_hooks\n\u001b[0;32m   1109\u001b[0m         \u001b[38;5;129;01mor\u001b[39;00m _global_forward_hooks \u001b[38;5;129;01mor\u001b[39;00m _global_forward_pre_hooks):\n\u001b[1;32m-> 1110\u001b[0m     \u001b[38;5;28;01mreturn\u001b[39;00m \u001b[43mforward_call\u001b[49m\u001b[43m(\u001b[49m\u001b[38;5;241;43m*\u001b[39;49m\u001b[38;5;28;43minput\u001b[39;49m\u001b[43m,\u001b[49m\u001b[43m \u001b[49m\u001b[38;5;241;43m*\u001b[39;49m\u001b[38;5;241;43m*\u001b[39;49m\u001b[43mkwargs\u001b[49m\u001b[43m)\u001b[49m\n\u001b[0;32m   1111\u001b[0m \u001b[38;5;66;03m# Do not call functions when jit is used\u001b[39;00m\n\u001b[0;32m   1112\u001b[0m full_backward_hooks, non_full_backward_hooks \u001b[38;5;241m=\u001b[39m [], []\n",
            "File \u001b[1;32md:\\Anaconda3\\lib\\site-packages\\torch_geometric_temporal\\nn\\recurrent\\temporalgcn.py:126\u001b[0m, in \u001b[0;36mTGCN.forward\u001b[1;34m(self, X, edge_index, edge_weight, H)\u001b[0m\n\u001b[0;32m    111\u001b[0m \u001b[38;5;250m\u001b[39m\u001b[38;5;124;03m\"\"\"\u001b[39;00m\n\u001b[0;32m    112\u001b[0m \u001b[38;5;124;03mMaking a forward pass. If edge weights are not present the forward pass\u001b[39;00m\n\u001b[0;32m    113\u001b[0m \u001b[38;5;124;03mdefaults to an unweighted graph. If the hidden state matrix is not present\u001b[39;00m\n\u001b[1;32m   (...)\u001b[0m\n\u001b[0;32m    123\u001b[0m \u001b[38;5;124;03m    * **H** *(PyTorch Float Tensor)* - Hidden state matrix for all nodes.\u001b[39;00m\n\u001b[0;32m    124\u001b[0m \u001b[38;5;124;03m\"\"\"\u001b[39;00m\n\u001b[0;32m    125\u001b[0m H \u001b[38;5;241m=\u001b[39m \u001b[38;5;28mself\u001b[39m\u001b[38;5;241m.\u001b[39m_set_hidden_state(X, H)\n\u001b[1;32m--> 126\u001b[0m Z \u001b[38;5;241m=\u001b[39m \u001b[38;5;28;43mself\u001b[39;49m\u001b[38;5;241;43m.\u001b[39;49m\u001b[43m_calculate_update_gate\u001b[49m\u001b[43m(\u001b[49m\u001b[43mX\u001b[49m\u001b[43m,\u001b[49m\u001b[43m \u001b[49m\u001b[43medge_index\u001b[49m\u001b[43m,\u001b[49m\u001b[43m \u001b[49m\u001b[43medge_weight\u001b[49m\u001b[43m,\u001b[49m\u001b[43m \u001b[49m\u001b[43mH\u001b[49m\u001b[43m)\u001b[49m\n\u001b[0;32m    127\u001b[0m R \u001b[38;5;241m=\u001b[39m \u001b[38;5;28mself\u001b[39m\u001b[38;5;241m.\u001b[39m_calculate_reset_gate(X, edge_index, edge_weight, H)\n\u001b[0;32m    128\u001b[0m H_tilde \u001b[38;5;241m=\u001b[39m \u001b[38;5;28mself\u001b[39m\u001b[38;5;241m.\u001b[39m_calculate_candidate_state(X, edge_index, edge_weight, H, R)\n",
            "File \u001b[1;32md:\\Anaconda3\\lib\\site-packages\\torch_geometric_temporal\\nn\\recurrent\\temporalgcn.py:83\u001b[0m, in \u001b[0;36mTGCN._calculate_update_gate\u001b[1;34m(self, X, edge_index, edge_weight, H)\u001b[0m\n\u001b[0;32m     82\u001b[0m \u001b[38;5;28;01mdef\u001b[39;00m \u001b[38;5;21m_calculate_update_gate\u001b[39m(\u001b[38;5;28mself\u001b[39m, X, edge_index, edge_weight, H):\n\u001b[1;32m---> 83\u001b[0m     Z \u001b[38;5;241m=\u001b[39m torch\u001b[38;5;241m.\u001b[39mcat([\u001b[38;5;28;43mself\u001b[39;49m\u001b[38;5;241;43m.\u001b[39;49m\u001b[43mconv_z\u001b[49m\u001b[43m(\u001b[49m\u001b[43mX\u001b[49m\u001b[43m,\u001b[49m\u001b[43m \u001b[49m\u001b[43medge_index\u001b[49m\u001b[43m,\u001b[49m\u001b[43m \u001b[49m\u001b[43medge_weight\u001b[49m\u001b[43m)\u001b[49m, H], axis\u001b[38;5;241m=\u001b[39m\u001b[38;5;241m1\u001b[39m)\n\u001b[0;32m     84\u001b[0m     Z \u001b[38;5;241m=\u001b[39m \u001b[38;5;28mself\u001b[39m\u001b[38;5;241m.\u001b[39mlinear_z(Z)\n\u001b[0;32m     85\u001b[0m     Z \u001b[38;5;241m=\u001b[39m torch\u001b[38;5;241m.\u001b[39msigmoid(Z)\n",
            "File \u001b[1;32md:\\Anaconda3\\lib\\site-packages\\torch\\nn\\modules\\module.py:1110\u001b[0m, in \u001b[0;36mModule._call_impl\u001b[1;34m(self, *input, **kwargs)\u001b[0m\n\u001b[0;32m   1106\u001b[0m \u001b[38;5;66;03m# If we don't have any hooks, we want to skip the rest of the logic in\u001b[39;00m\n\u001b[0;32m   1107\u001b[0m \u001b[38;5;66;03m# this function, and just call forward.\u001b[39;00m\n\u001b[0;32m   1108\u001b[0m \u001b[38;5;28;01mif\u001b[39;00m \u001b[38;5;129;01mnot\u001b[39;00m (\u001b[38;5;28mself\u001b[39m\u001b[38;5;241m.\u001b[39m_backward_hooks \u001b[38;5;129;01mor\u001b[39;00m \u001b[38;5;28mself\u001b[39m\u001b[38;5;241m.\u001b[39m_forward_hooks \u001b[38;5;129;01mor\u001b[39;00m \u001b[38;5;28mself\u001b[39m\u001b[38;5;241m.\u001b[39m_forward_pre_hooks \u001b[38;5;129;01mor\u001b[39;00m _global_backward_hooks\n\u001b[0;32m   1109\u001b[0m         \u001b[38;5;129;01mor\u001b[39;00m _global_forward_hooks \u001b[38;5;129;01mor\u001b[39;00m _global_forward_pre_hooks):\n\u001b[1;32m-> 1110\u001b[0m     \u001b[38;5;28;01mreturn\u001b[39;00m \u001b[43mforward_call\u001b[49m\u001b[43m(\u001b[49m\u001b[38;5;241;43m*\u001b[39;49m\u001b[38;5;28;43minput\u001b[39;49m\u001b[43m,\u001b[49m\u001b[43m \u001b[49m\u001b[38;5;241;43m*\u001b[39;49m\u001b[38;5;241;43m*\u001b[39;49m\u001b[43mkwargs\u001b[49m\u001b[43m)\u001b[49m\n\u001b[0;32m   1111\u001b[0m \u001b[38;5;66;03m# Do not call functions when jit is used\u001b[39;00m\n\u001b[0;32m   1112\u001b[0m full_backward_hooks, non_full_backward_hooks \u001b[38;5;241m=\u001b[39m [], []\n",
            "File \u001b[1;32md:\\Anaconda3\\lib\\site-packages\\torch_geometric\\nn\\conv\\gcn_conv.py:263\u001b[0m, in \u001b[0;36mGCNConv.forward\u001b[1;34m(self, x, edge_index, edge_weight)\u001b[0m\n\u001b[0;32m    260\u001b[0m x \u001b[38;5;241m=\u001b[39m \u001b[38;5;28mself\u001b[39m\u001b[38;5;241m.\u001b[39mlin(x)\n\u001b[0;32m    262\u001b[0m \u001b[38;5;66;03m# propagate_type: (x: Tensor, edge_weight: OptTensor)\u001b[39;00m\n\u001b[1;32m--> 263\u001b[0m out \u001b[38;5;241m=\u001b[39m \u001b[38;5;28;43mself\u001b[39;49m\u001b[38;5;241;43m.\u001b[39;49m\u001b[43mpropagate\u001b[49m\u001b[43m(\u001b[49m\u001b[43medge_index\u001b[49m\u001b[43m,\u001b[49m\u001b[43m \u001b[49m\u001b[43mx\u001b[49m\u001b[38;5;241;43m=\u001b[39;49m\u001b[43mx\u001b[49m\u001b[43m,\u001b[49m\u001b[43m \u001b[49m\u001b[43medge_weight\u001b[49m\u001b[38;5;241;43m=\u001b[39;49m\u001b[43medge_weight\u001b[49m\u001b[43m)\u001b[49m\n\u001b[0;32m    265\u001b[0m \u001b[38;5;28;01mif\u001b[39;00m \u001b[38;5;28mself\u001b[39m\u001b[38;5;241m.\u001b[39mbias \u001b[38;5;129;01mis\u001b[39;00m \u001b[38;5;129;01mnot\u001b[39;00m \u001b[38;5;28;01mNone\u001b[39;00m:\n\u001b[0;32m    266\u001b[0m     out \u001b[38;5;241m=\u001b[39m out \u001b[38;5;241m+\u001b[39m \u001b[38;5;28mself\u001b[39m\u001b[38;5;241m.\u001b[39mbias\n",
            "File \u001b[1;32m~\\.cache\\pyg\\message_passing\\torch_geometric.nn.conv.gcn_conv_GCNConv_propagate.py:194\u001b[0m, in \u001b[0;36mpropagate\u001b[1;34m(self, edge_index, x, edge_weight, size)\u001b[0m\n\u001b[0;32m    185\u001b[0m             kwargs \u001b[38;5;241m=\u001b[39m CollectArgs(\n\u001b[0;32m    186\u001b[0m                 x_j\u001b[38;5;241m=\u001b[39mhook_kwargs[\u001b[38;5;124m'\u001b[39m\u001b[38;5;124mx_j\u001b[39m\u001b[38;5;124m'\u001b[39m],\n\u001b[0;32m    187\u001b[0m                 edge_weight\u001b[38;5;241m=\u001b[39mhook_kwargs[\u001b[38;5;124m'\u001b[39m\u001b[38;5;124medge_weight\u001b[39m\u001b[38;5;124m'\u001b[39m],\n\u001b[1;32m   (...)\u001b[0m\n\u001b[0;32m    190\u001b[0m                 dim_size\u001b[38;5;241m=\u001b[39mkwargs\u001b[38;5;241m.\u001b[39mdim_size,\n\u001b[0;32m    191\u001b[0m             )\n\u001b[0;32m    192\u001b[0m \u001b[38;5;66;03m# End Message Forward Pre Hook #########################################\u001b[39;00m\n\u001b[1;32m--> 194\u001b[0m out \u001b[38;5;241m=\u001b[39m \u001b[38;5;28;43mself\u001b[39;49m\u001b[38;5;241;43m.\u001b[39;49m\u001b[43mmessage\u001b[49m\u001b[43m(\u001b[49m\n\u001b[0;32m    195\u001b[0m \u001b[43m    \u001b[49m\u001b[43mx_j\u001b[49m\u001b[38;5;241;43m=\u001b[39;49m\u001b[43mkwargs\u001b[49m\u001b[38;5;241;43m.\u001b[39;49m\u001b[43mx_j\u001b[49m\u001b[43m,\u001b[49m\n\u001b[0;32m    196\u001b[0m \u001b[43m    \u001b[49m\u001b[43medge_weight\u001b[49m\u001b[38;5;241;43m=\u001b[39;49m\u001b[43mkwargs\u001b[49m\u001b[38;5;241;43m.\u001b[39;49m\u001b[43medge_weight\u001b[49m\u001b[43m,\u001b[49m\n\u001b[0;32m    197\u001b[0m \u001b[43m\u001b[49m\u001b[43m)\u001b[49m\n\u001b[0;32m    199\u001b[0m \u001b[38;5;66;03m# Begin Message Forward Hook ###########################################\u001b[39;00m\n\u001b[0;32m    200\u001b[0m \u001b[38;5;28;01mif\u001b[39;00m \u001b[38;5;129;01mnot\u001b[39;00m torch\u001b[38;5;241m.\u001b[39mjit\u001b[38;5;241m.\u001b[39mis_scripting() \u001b[38;5;129;01mand\u001b[39;00m \u001b[38;5;129;01mnot\u001b[39;00m is_compiling():\n",
            "File \u001b[1;32md:\\Anaconda3\\lib\\site-packages\\torch_geometric\\nn\\conv\\gcn_conv.py:271\u001b[0m, in \u001b[0;36mGCNConv.message\u001b[1;34m(self, x_j, edge_weight)\u001b[0m\n\u001b[0;32m    270\u001b[0m \u001b[38;5;28;01mdef\u001b[39;00m \u001b[38;5;21mmessage\u001b[39m(\u001b[38;5;28mself\u001b[39m, x_j: Tensor, edge_weight: OptTensor) \u001b[38;5;241m-\u001b[39m\u001b[38;5;241m>\u001b[39m Tensor:\n\u001b[1;32m--> 271\u001b[0m     \u001b[38;5;28;01mreturn\u001b[39;00m x_j \u001b[38;5;28;01mif\u001b[39;00m edge_weight \u001b[38;5;129;01mis\u001b[39;00m \u001b[38;5;28;01mNone\u001b[39;00m \u001b[38;5;28;01melse\u001b[39;00m \u001b[43medge_weight\u001b[49m\u001b[38;5;241;43m.\u001b[39;49m\u001b[43mview\u001b[49m\u001b[43m(\u001b[49m\u001b[38;5;241;43m-\u001b[39;49m\u001b[38;5;241;43m1\u001b[39;49m\u001b[43m,\u001b[49m\u001b[43m \u001b[49m\u001b[38;5;241;43m1\u001b[39;49m\u001b[43m)\u001b[49m\u001b[43m \u001b[49m\u001b[38;5;241;43m*\u001b[39;49m\u001b[43m \u001b[49m\u001b[43mx_j\u001b[49m\n",
            "\u001b[1;31mRuntimeError\u001b[0m: CUDA out of memory. Tried to allocate 2.00 MiB (GPU 0; 4.00 GiB total capacity; 10.16 GiB already allocated; 0 bytes free; 10.29 GiB reserved in total by PyTorch) If reserved memory is >> allocated memory try setting max_split_size_mb to avoid fragmentation.  See documentation for Memory Management and PYTORCH_CUDA_ALLOC_CONF"
          ]
        }
      ],
      "source": [
        "# GPU support\n",
        "device = torch.device('cuda') # cuda\n",
        "subset = 2000\n",
        "\n",
        "# Create model and optimizers\n",
        "model = TemporalGNN(node_features=2, periods=12).to(device)\n",
        "optimizer = torch.optim.Adam(model.parameters(), lr=0.01)\n",
        "model.train()\n",
        "\n",
        "print(\"Running training...\")\n",
        "for epoch in range(10):\n",
        "    loss = 0\n",
        "    step = 0\n",
        "    for snapshot in train_dataset:\n",
        "        snapshot = snapshot.to(device)\n",
        "        # Get model predictions\n",
        "        y_hat = model(snapshot.x, snapshot.edge_index)\n",
        "        # Mean squared error\n",
        "        loss = loss + torch.mean((y_hat-snapshot.y)**2)\n",
        "        step += 1\n",
        "        if step > subset:\n",
        "            break\n",
        "\n",
        "    loss = loss / (step + 1)\n",
        "    loss.backward()\n",
        "    optimizer.step()\n",
        "    optimizer.zero_grad()\n",
        "    print(\"Epoch {} train MSE: {:.4f}\".format(epoch, loss.item()))"
      ]
    },
    {
      "cell_type": "code",
      "execution_count": null,
      "metadata": {
        "colab": {
          "base_uri": "https://localhost:8080/"
        },
        "id": "hNERp-_xs27y",
        "outputId": "40163894-0522-45c4-8e31-6303ea7f4165"
      },
      "outputs": [
        {
          "output_type": "stream",
          "name": "stdout",
          "text": [
            "Test MSE: 0.6884\n"
          ]
        }
      ],
      "source": [
        "model.eval()\n",
        "loss = 0\n",
        "step = 0\n",
        "horizon = 288\n",
        "\n",
        "# Store for analysis\n",
        "predictions = []\n",
        "labels = []\n",
        "\n",
        "for snapshot in test_dataset:\n",
        "    snapshot = snapshot.to(device)\n",
        "    # Get predictions\n",
        "    y_hat = model(snapshot.x, snapshot.edge_index)\n",
        "    # Mean squared error\n",
        "    loss = loss + torch.mean((y_hat-snapshot.y)**2)\n",
        "    # Store for analysis below\n",
        "    labels.append(snapshot.y)\n",
        "    predictions.append(y_hat)\n",
        "    step += 1\n",
        "    if step > horizon:\n",
        "          break\n",
        "\n",
        "loss = loss / (step+1)\n",
        "loss = loss.item()\n",
        "print(\"Test MSE: {:.4f}\".format(loss))"
      ]
    },
    {
      "cell_type": "code",
      "execution_count": null,
      "metadata": {
        "colab": {
          "background_save": true
        },
        "collapsed": true,
        "id": "g3GC5nmwSde0"
      },
      "outputs": [],
      "source": []
    }
  ],
  "metadata": {
    "colab": {
      "provenance": [],
      "include_colab_link": true
    },
    "kernelspec": {
      "display_name": "Python 3",
      "name": "python3"
    },
    "language_info": {
      "codemirror_mode": {
        "name": "ipython",
        "version": 3
      },
      "file_extension": ".py",
      "mimetype": "text/x-python",
      "name": "python",
      "nbconvert_exporter": "python",
      "pygments_lexer": "ipython3",
      "version": "3.6.3"
    }
  },
  "nbformat": 4,
  "nbformat_minor": 0
}